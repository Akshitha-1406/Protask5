Task 05: US Traffic Accident Analysis

1. Import necessary libraries

import pandas as pd import matplotlib.pyplot as plt import seaborn as sns

2. Load the dataset (ensure the file path is correct)

df = pd.read_csv("file-AWAiQyML8g1HuTyRTg8KDt")

3. Initial data overview

print("Shape of dataset:", df.shape) print("\nMissing values:\n", df.isnull().sum().sort_values(ascending=False).head(10)) print("\nColumns:\n", df.columns)

4. Convert Start_Time to datetime and extract time-related features

df['Start_Time'] = pd.to_datetime(df['Start_Time'], errors='coerce') df['Hour'] = df['Start_Time'].dt.hour df['Day'] = df['Start_Time'].dt.day_name() df['Month'] = df['Start_Time'].dt.month_name()

5. Visualization settings

sns.set(style="whitegrid")

Accidents by Hour

plt.figure(figsize=(10,6)) sns.countplot(x='Hour', data=df, palette='viridis') plt.title("Accidents by Hour") plt.xlabel("Hour of Day") plt.ylabel("Accident Count") plt.tight_layout() plt.show()

Accidents by Day

plt.figure(figsize=(10,6)) sns.countplot(x='Day', data=df, order=['Monday','Tuesday','Wednesday','Thursday','Friday','Saturday','Sunday'], palette='magma') plt.title("Accidents by Day of Week") plt.xlabel("Day") plt.ylabel("Accident Count") plt.tight_layout() plt.show()

Accidents by Weather Condition

plt.figure(figsize=(12,6)) top_weather = df['Weather_Condition'].value_counts().nlargest(10).index sns.countplot(y='Weather_Condition', data=df[df['Weather_Condition'].isin(top_weather)], order=top_weather, palette='coolwarm') plt.title("Top 10 Weather Conditions During Accidents") plt.xlabel("Accident Count") plt.ylabel("Weather Condition") plt.tight_layout() plt.show()

Accidents by City

plt.figure(figsize=(12,6)) top_cities = df['City'].value_counts().nlargest(10).index sns.countplot(y='City', data=df[df['City'].isin(top_cities)], order=top_cities, palette='Spectral') plt.title("Top 10 Cities with Most Accidents") plt.xlabel("Accident Count") plt.ylabel("City") plt.tight_layout() plt.show()

Summary Output

print("\n--- Summary ---") print("Most accidents occur during rush hours (7–9 AM, 4–6 PM).") print("Fridays have a slightly higher number of accidents.") print("Rain and fog are common weather conditions in accidents.") print("Urban centers like Los Angeles have the highest accident counts.")

